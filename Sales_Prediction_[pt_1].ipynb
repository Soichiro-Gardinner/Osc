{
  "nbformat": 4,
  "nbformat_minor": 0,
  "metadata": {
    "colab": {
      "provenance": [],
      "toc_visible": true,
      "authorship_tag": "ABX9TyPA0SBm3OdeG7GQs7glSSBa",
      "include_colab_link": true
    },
    "kernelspec": {
      "name": "python3",
      "display_name": "Python 3"
    },
    "language_info": {
      "name": "python"
    }
  },
  "cells": [
    {
      "cell_type": "markdown",
      "metadata": {
        "id": "view-in-github",
        "colab_type": "text"
      },
      "source": [
        "<a href=\"https://colab.research.google.com/github/Soichiro-Gardinner/Osc/blob/main/Sales_Prediction_%5Bpt_1%5D.ipynb\" target=\"_parent\"><img src=\"https://colab.research.google.com/assets/colab-badge.svg\" alt=\"Open In Colab\"/></a>"
      ]
    },
    {
      "cell_type": "markdown",
      "source": [
        "# **Sales Prediction** [pt.1]"
      ],
      "metadata": {
        "id": "MIDwqsaA-Auc"
      }
    },
    {
      "cell_type": "markdown",
      "source": [
        "- **By:** Oscar Castanaza\n",
        "- **Updated:** Mar-12-2023\n",
        "- **Used:** [Python: Pandas, Matplotlib, Seaborn]"
      ],
      "metadata": {
        "id": "yNeWc3EH-MLR"
      }
    },
    {
      "cell_type": "markdown",
      "source": [
        "#_ _ _ _ _ _ _ _ _ _ _ _ _ _ _ _ _ _ _ _ _ _  "
      ],
      "metadata": {
        "id": "8iVW9fIE_vsK"
      }
    },
    {
      "cell_type": "markdown",
      "source": [
        "Importing Libraries:"
      ],
      "metadata": {
        "id": "tHFHiEMNAVkc"
      }
    },
    {
      "cell_type": "code",
      "execution_count": 1,
      "metadata": {
        "id": "mdgivDZa9mN_"
      },
      "outputs": [],
      "source": [
        "import pandas as pd\n",
        "import matplotlib.pyplot as plt\n",
        "import seaborn as sns"
      ]
    },
    {
      "cell_type": "markdown",
      "source": [
        "#_ _ _ _ _ _ _ _ _ _ _ _ _ _ _ _ _ _ _ _ _ _ "
      ],
      "metadata": {
        "id": "UcJEttIzVubY"
      }
    },
    {
      "cell_type": "markdown",
      "source": [
        "#Data:"
      ],
      "metadata": {
        "id": "8CXHwT0zBCrq"
      }
    },
    {
      "cell_type": "code",
      "source": [
        "# Saving Data in df:\n",
        "df = pd.read_csv(\"/content/Sales Pred [Week(2)].csv\")"
      ],
      "metadata": {
        "id": "VLRKOCBQBKxN"
      },
      "execution_count": 2,
      "outputs": []
    },
    {
      "cell_type": "code",
      "source": [
        "# Showing 5 rows:\n",
        "df.head(6)"
      ],
      "metadata": {
        "colab": {
          "base_uri": "https://localhost:8080/",
          "height": 405
        },
        "id": "IngmZdJPBi5p",
        "outputId": "029534b2-2ecf-454e-efc3-f1895647005e"
      },
      "execution_count": 3,
      "outputs": [
        {
          "output_type": "execute_result",
          "data": {
            "text/plain": [
              "  Item_Identifier  Item_Weight Item_Fat_Content  Item_Visibility  \\\n",
              "0           FDA15        9.300          Low Fat         0.016047   \n",
              "1           DRC01        5.920          Regular         0.019278   \n",
              "2           FDN15       17.500          Low Fat         0.016760   \n",
              "3           FDX07       19.200          Regular         0.000000   \n",
              "4           NCD19        8.930          Low Fat         0.000000   \n",
              "5           FDP36       10.395          Regular         0.000000   \n",
              "\n",
              "               Item_Type  Item_MRP Outlet_Identifier  \\\n",
              "0                  Dairy  249.8092            OUT049   \n",
              "1            Soft Drinks   48.2692            OUT018   \n",
              "2                   Meat  141.6180            OUT049   \n",
              "3  Fruits and Vegetables  182.0950            OUT010   \n",
              "4              Household   53.8614            OUT013   \n",
              "5           Baking Goods   51.4008            OUT018   \n",
              "\n",
              "   Outlet_Establishment_Year Outlet_Size Outlet_Location_Type  \\\n",
              "0                       1999      Medium               Tier 1   \n",
              "1                       2009      Medium               Tier 3   \n",
              "2                       1999      Medium               Tier 1   \n",
              "3                       1998         NaN               Tier 3   \n",
              "4                       1987        High               Tier 3   \n",
              "5                       2009      Medium               Tier 3   \n",
              "\n",
              "         Outlet_Type  Item_Outlet_Sales  \n",
              "0  Supermarket Type1          3735.1380  \n",
              "1  Supermarket Type2           443.4228  \n",
              "2  Supermarket Type1          2097.2700  \n",
              "3      Grocery Store           732.3800  \n",
              "4  Supermarket Type1           994.7052  \n",
              "5  Supermarket Type2           556.6088  "
            ],
            "text/html": [
              "\n",
              "  <div id=\"df-28d5981a-5ddd-4f90-aca8-c2a5a4523738\">\n",
              "    <div class=\"colab-df-container\">\n",
              "      <div>\n",
              "<style scoped>\n",
              "    .dataframe tbody tr th:only-of-type {\n",
              "        vertical-align: middle;\n",
              "    }\n",
              "\n",
              "    .dataframe tbody tr th {\n",
              "        vertical-align: top;\n",
              "    }\n",
              "\n",
              "    .dataframe thead th {\n",
              "        text-align: right;\n",
              "    }\n",
              "</style>\n",
              "<table border=\"1\" class=\"dataframe\">\n",
              "  <thead>\n",
              "    <tr style=\"text-align: right;\">\n",
              "      <th></th>\n",
              "      <th>Item_Identifier</th>\n",
              "      <th>Item_Weight</th>\n",
              "      <th>Item_Fat_Content</th>\n",
              "      <th>Item_Visibility</th>\n",
              "      <th>Item_Type</th>\n",
              "      <th>Item_MRP</th>\n",
              "      <th>Outlet_Identifier</th>\n",
              "      <th>Outlet_Establishment_Year</th>\n",
              "      <th>Outlet_Size</th>\n",
              "      <th>Outlet_Location_Type</th>\n",
              "      <th>Outlet_Type</th>\n",
              "      <th>Item_Outlet_Sales</th>\n",
              "    </tr>\n",
              "  </thead>\n",
              "  <tbody>\n",
              "    <tr>\n",
              "      <th>0</th>\n",
              "      <td>FDA15</td>\n",
              "      <td>9.300</td>\n",
              "      <td>Low Fat</td>\n",
              "      <td>0.016047</td>\n",
              "      <td>Dairy</td>\n",
              "      <td>249.8092</td>\n",
              "      <td>OUT049</td>\n",
              "      <td>1999</td>\n",
              "      <td>Medium</td>\n",
              "      <td>Tier 1</td>\n",
              "      <td>Supermarket Type1</td>\n",
              "      <td>3735.1380</td>\n",
              "    </tr>\n",
              "    <tr>\n",
              "      <th>1</th>\n",
              "      <td>DRC01</td>\n",
              "      <td>5.920</td>\n",
              "      <td>Regular</td>\n",
              "      <td>0.019278</td>\n",
              "      <td>Soft Drinks</td>\n",
              "      <td>48.2692</td>\n",
              "      <td>OUT018</td>\n",
              "      <td>2009</td>\n",
              "      <td>Medium</td>\n",
              "      <td>Tier 3</td>\n",
              "      <td>Supermarket Type2</td>\n",
              "      <td>443.4228</td>\n",
              "    </tr>\n",
              "    <tr>\n",
              "      <th>2</th>\n",
              "      <td>FDN15</td>\n",
              "      <td>17.500</td>\n",
              "      <td>Low Fat</td>\n",
              "      <td>0.016760</td>\n",
              "      <td>Meat</td>\n",
              "      <td>141.6180</td>\n",
              "      <td>OUT049</td>\n",
              "      <td>1999</td>\n",
              "      <td>Medium</td>\n",
              "      <td>Tier 1</td>\n",
              "      <td>Supermarket Type1</td>\n",
              "      <td>2097.2700</td>\n",
              "    </tr>\n",
              "    <tr>\n",
              "      <th>3</th>\n",
              "      <td>FDX07</td>\n",
              "      <td>19.200</td>\n",
              "      <td>Regular</td>\n",
              "      <td>0.000000</td>\n",
              "      <td>Fruits and Vegetables</td>\n",
              "      <td>182.0950</td>\n",
              "      <td>OUT010</td>\n",
              "      <td>1998</td>\n",
              "      <td>NaN</td>\n",
              "      <td>Tier 3</td>\n",
              "      <td>Grocery Store</td>\n",
              "      <td>732.3800</td>\n",
              "    </tr>\n",
              "    <tr>\n",
              "      <th>4</th>\n",
              "      <td>NCD19</td>\n",
              "      <td>8.930</td>\n",
              "      <td>Low Fat</td>\n",
              "      <td>0.000000</td>\n",
              "      <td>Household</td>\n",
              "      <td>53.8614</td>\n",
              "      <td>OUT013</td>\n",
              "      <td>1987</td>\n",
              "      <td>High</td>\n",
              "      <td>Tier 3</td>\n",
              "      <td>Supermarket Type1</td>\n",
              "      <td>994.7052</td>\n",
              "    </tr>\n",
              "    <tr>\n",
              "      <th>5</th>\n",
              "      <td>FDP36</td>\n",
              "      <td>10.395</td>\n",
              "      <td>Regular</td>\n",
              "      <td>0.000000</td>\n",
              "      <td>Baking Goods</td>\n",
              "      <td>51.4008</td>\n",
              "      <td>OUT018</td>\n",
              "      <td>2009</td>\n",
              "      <td>Medium</td>\n",
              "      <td>Tier 3</td>\n",
              "      <td>Supermarket Type2</td>\n",
              "      <td>556.6088</td>\n",
              "    </tr>\n",
              "  </tbody>\n",
              "</table>\n",
              "</div>\n",
              "      <button class=\"colab-df-convert\" onclick=\"convertToInteractive('df-28d5981a-5ddd-4f90-aca8-c2a5a4523738')\"\n",
              "              title=\"Convert this dataframe to an interactive table.\"\n",
              "              style=\"display:none;\">\n",
              "        \n",
              "  <svg xmlns=\"http://www.w3.org/2000/svg\" height=\"24px\"viewBox=\"0 0 24 24\"\n",
              "       width=\"24px\">\n",
              "    <path d=\"M0 0h24v24H0V0z\" fill=\"none\"/>\n",
              "    <path d=\"M18.56 5.44l.94 2.06.94-2.06 2.06-.94-2.06-.94-.94-2.06-.94 2.06-2.06.94zm-11 1L8.5 8.5l.94-2.06 2.06-.94-2.06-.94L8.5 2.5l-.94 2.06-2.06.94zm10 10l.94 2.06.94-2.06 2.06-.94-2.06-.94-.94-2.06-.94 2.06-2.06.94z\"/><path d=\"M17.41 7.96l-1.37-1.37c-.4-.4-.92-.59-1.43-.59-.52 0-1.04.2-1.43.59L10.3 9.45l-7.72 7.72c-.78.78-.78 2.05 0 2.83L4 21.41c.39.39.9.59 1.41.59.51 0 1.02-.2 1.41-.59l7.78-7.78 2.81-2.81c.8-.78.8-2.07 0-2.86zM5.41 20L4 18.59l7.72-7.72 1.47 1.35L5.41 20z\"/>\n",
              "  </svg>\n",
              "      </button>\n",
              "      \n",
              "  <style>\n",
              "    .colab-df-container {\n",
              "      display:flex;\n",
              "      flex-wrap:wrap;\n",
              "      gap: 12px;\n",
              "    }\n",
              "\n",
              "    .colab-df-convert {\n",
              "      background-color: #E8F0FE;\n",
              "      border: none;\n",
              "      border-radius: 50%;\n",
              "      cursor: pointer;\n",
              "      display: none;\n",
              "      fill: #1967D2;\n",
              "      height: 32px;\n",
              "      padding: 0 0 0 0;\n",
              "      width: 32px;\n",
              "    }\n",
              "\n",
              "    .colab-df-convert:hover {\n",
              "      background-color: #E2EBFA;\n",
              "      box-shadow: 0px 1px 2px rgba(60, 64, 67, 0.3), 0px 1px 3px 1px rgba(60, 64, 67, 0.15);\n",
              "      fill: #174EA6;\n",
              "    }\n",
              "\n",
              "    [theme=dark] .colab-df-convert {\n",
              "      background-color: #3B4455;\n",
              "      fill: #D2E3FC;\n",
              "    }\n",
              "\n",
              "    [theme=dark] .colab-df-convert:hover {\n",
              "      background-color: #434B5C;\n",
              "      box-shadow: 0px 1px 3px 1px rgba(0, 0, 0, 0.15);\n",
              "      filter: drop-shadow(0px 1px 2px rgba(0, 0, 0, 0.3));\n",
              "      fill: #FFFFFF;\n",
              "    }\n",
              "  </style>\n",
              "\n",
              "      <script>\n",
              "        const buttonEl =\n",
              "          document.querySelector('#df-28d5981a-5ddd-4f90-aca8-c2a5a4523738 button.colab-df-convert');\n",
              "        buttonEl.style.display =\n",
              "          google.colab.kernel.accessAllowed ? 'block' : 'none';\n",
              "\n",
              "        async function convertToInteractive(key) {\n",
              "          const element = document.querySelector('#df-28d5981a-5ddd-4f90-aca8-c2a5a4523738');\n",
              "          const dataTable =\n",
              "            await google.colab.kernel.invokeFunction('convertToInteractive',\n",
              "                                                     [key], {});\n",
              "          if (!dataTable) return;\n",
              "\n",
              "          const docLinkHtml = 'Like what you see? Visit the ' +\n",
              "            '<a target=\"_blank\" href=https://colab.research.google.com/notebooks/data_table.ipynb>data table notebook</a>'\n",
              "            + ' to learn more about interactive tables.';\n",
              "          element.innerHTML = '';\n",
              "          dataTable['output_type'] = 'display_data';\n",
              "          await google.colab.output.renderOutput(dataTable, element);\n",
              "          const docLink = document.createElement('div');\n",
              "          docLink.innerHTML = docLinkHtml;\n",
              "          element.appendChild(docLink);\n",
              "        }\n",
              "      </script>\n",
              "    </div>\n",
              "  </div>\n",
              "  "
            ]
          },
          "metadata": {},
          "execution_count": 3
        }
      ]
    },
    {
      "cell_type": "code",
      "source": [
        "#rows and Columns:\n",
        "print(f\"Rows: {df.shape[0]}, Columns: {df.shape[1]}\")   #df.shape"
      ],
      "metadata": {
        "colab": {
          "base_uri": "https://localhost:8080/"
        },
        "id": "wQ5J1LizFzgt",
        "outputId": "1892667c-eb4a-4398-a689-8b24c8223536"
      },
      "execution_count": 4,
      "outputs": [
        {
          "output_type": "stream",
          "name": "stdout",
          "text": [
            "Rows: 8523, Columns: 12\n"
          ]
        }
      ]
    },
    {
      "cell_type": "code",
      "source": [
        "index = 0 \n",
        "# Cheking the column names:\n",
        "for i in df.columns:\n",
        "  index += 1\n",
        "  print(index,i)"
      ],
      "metadata": {
        "colab": {
          "base_uri": "https://localhost:8080/"
        },
        "id": "OF_wBAVECdGF",
        "outputId": "9b53d179-378b-41b1-ce07-0ab4d38d1ba1"
      },
      "execution_count": 5,
      "outputs": [
        {
          "output_type": "stream",
          "name": "stdout",
          "text": [
            "1 Item_Identifier\n",
            "2 Item_Weight\n",
            "3 Item_Fat_Content\n",
            "4 Item_Visibility\n",
            "5 Item_Type\n",
            "6 Item_MRP\n",
            "7 Outlet_Identifier\n",
            "8 Outlet_Establishment_Year\n",
            "9 Outlet_Size\n",
            "10 Outlet_Location_Type\n",
            "11 Outlet_Type\n",
            "12 Item_Outlet_Sales\n"
          ]
        }
      ]
    },
    {
      "cell_type": "markdown",
      "source": [
        "#_ _ _ _ _ _ _ _ _ _ _ _ _ _ _ _ _ _ _ _ _ _  "
      ],
      "metadata": {
        "id": "HLPPL71_A0sF"
      }
    },
    {
      "cell_type": "markdown",
      "source": [
        "# **Data Cleaning**"
      ],
      "metadata": {
        "id": "SRwtP6pAEHHI"
      }
    },
    {
      "cell_type": "markdown",
      "source": [
        " _ _ _ _ _ _ _ _ _ _**Data Types** _ _ _ _ _ _ _ _ _ _ _ _  "
      ],
      "metadata": {
        "id": "ENpD-UlQQAoN"
      }
    },
    {
      "cell_type": "code",
      "source": [
        "# Checking Data Types:\n",
        "df.dtypes"
      ],
      "metadata": {
        "colab": {
          "base_uri": "https://localhost:8080/"
        },
        "id": "-UZib-V4Eu9X",
        "outputId": "ddb02ffa-a537-415f-c7c1-431ca07a6d5b"
      },
      "execution_count": 6,
      "outputs": [
        {
          "output_type": "execute_result",
          "data": {
            "text/plain": [
              "Item_Identifier               object\n",
              "Item_Weight                  float64\n",
              "Item_Fat_Content              object\n",
              "Item_Visibility              float64\n",
              "Item_Type                     object\n",
              "Item_MRP                     float64\n",
              "Outlet_Identifier             object\n",
              "Outlet_Establishment_Year      int64\n",
              "Outlet_Size                   object\n",
              "Outlet_Location_Type          object\n",
              "Outlet_Type                   object\n",
              "Item_Outlet_Sales            float64\n",
              "dtype: object"
            ]
          },
          "metadata": {},
          "execution_count": 6
        }
      ]
    },
    {
      "cell_type": "code",
      "source": [
        "#Run For simplier visibility:\n",
        "\"\"\"\n",
        "ind_X = 0\n",
        "for i in df.columns:\n",
        "  print(f\"__{ind_X}__\")\n",
        "  print(f\"_Column: {ind_X, i}, \\n_Data_Types: {df[i].dtypes} \\n\")\n",
        "  ind_X += 1\n",
        "\"\"\""
      ],
      "metadata": {
        "colab": {
          "base_uri": "https://localhost:8080/",
          "height": 53
        },
        "id": "emVxXwTcJ4rG",
        "outputId": "e045cba6-f910-440e-d39e-c74870d3d4e5"
      },
      "execution_count": 7,
      "outputs": [
        {
          "output_type": "execute_result",
          "data": {
            "text/plain": [
              "'\\nind_X = 0\\nfor i in df.columns:\\n  print(f\"__{ind_X}__\")\\n  print(f\"_Column: {ind_X, i}, \\n_Data_Types: {df[i].dtypes} \\n\")\\n  ind_X += 1\\n'"
            ],
            "application/vnd.google.colaboratory.intrinsic+json": {
              "type": "string"
            }
          },
          "metadata": {},
          "execution_count": 7
        }
      ]
    },
    {
      "cell_type": "markdown",
      "source": [
        "# _ _ _ _ _ _ _ _ _ _**Duplicates** _ _ _ _ _ _ _ _ _ _ _ _  "
      ],
      "metadata": {
        "id": "5Ly8hAKuQItJ"
      }
    },
    {
      "cell_type": "code",
      "source": [
        "# Looking for Duplicates:\n",
        "df.duplicated().sum()"
      ],
      "metadata": {
        "colab": {
          "base_uri": "https://localhost:8080/"
        },
        "id": "HIw_zilyQjD9",
        "outputId": "5059a55c-94d0-4830-9b23-e89663518c06"
      },
      "execution_count": 8,
      "outputs": [
        {
          "output_type": "execute_result",
          "data": {
            "text/plain": [
              "0"
            ]
          },
          "metadata": {},
          "execution_count": 8
        }
      ]
    },
    {
      "cell_type": "markdown",
      "source": [
        "# _ _ _ _ _ _ _ _ _ **Identifying Missing Values**_ _ _ _ _ _ _ _ _ _ _ _ _  "
      ],
      "metadata": {
        "id": "ZzJnIcr1SQJ1"
      }
    },
    {
      "cell_type": "code",
      "source": [
        "df.isna().sum()"
      ],
      "metadata": {
        "colab": {
          "base_uri": "https://localhost:8080/"
        },
        "id": "59CJg_SnSOHK",
        "outputId": "192b7443-fa0e-4907-ecd4-ba18ddd01313"
      },
      "execution_count": 9,
      "outputs": [
        {
          "output_type": "execute_result",
          "data": {
            "text/plain": [
              "Item_Identifier                 0\n",
              "Item_Weight                  1463\n",
              "Item_Fat_Content                0\n",
              "Item_Visibility                 0\n",
              "Item_Type                       0\n",
              "Item_MRP                        0\n",
              "Outlet_Identifier               0\n",
              "Outlet_Establishment_Year       0\n",
              "Outlet_Size                  2410\n",
              "Outlet_Location_Type            0\n",
              "Outlet_Type                     0\n",
              "Item_Outlet_Sales               0\n",
              "dtype: int64"
            ]
          },
          "metadata": {},
          "execution_count": 9
        }
      ]
    },
    {
      "cell_type": "markdown",
      "source": [
        "**Handling NaNs**"
      ],
      "metadata": {
        "id": "9Zc6a7anV4DZ"
      }
    },
    {
      "cell_type": "code",
      "source": [
        "# Since this column is made of strings and not numbers, \n",
        "# I decided to handle the Missing Values By Using the most frequent value (mode).\n",
        "df = df.dropna(subset = [\"Outlet_Size\"])"
      ],
      "metadata": {
        "id": "OWNUlOblUQUv"
      },
      "execution_count": 10,
      "outputs": []
    },
    {
      "cell_type": "code",
      "source": [
        "#Here, because its numbers I decided to use the mean().\n",
        "df[\"Item_Weight\"] = df[\"Item_Weight\"].fillna(df['Item_Weight'].median())"
      ],
      "metadata": {
        "id": "VNrDcYGxX-rW"
      },
      "execution_count": 11,
      "outputs": []
    },
    {
      "cell_type": "markdown",
      "source": [
        "**re-Check for NaNs**"
      ],
      "metadata": {
        "id": "tPbuWu6ZYaBD"
      }
    },
    {
      "cell_type": "code",
      "source": [
        "df.isna().sum()"
      ],
      "metadata": {
        "colab": {
          "base_uri": "https://localhost:8080/"
        },
        "id": "jKuEI0JuY_cz",
        "outputId": "6028690e-a9e3-4d78-c80c-31e0c4b07e73"
      },
      "execution_count": 12,
      "outputs": [
        {
          "output_type": "execute_result",
          "data": {
            "text/plain": [
              "Item_Identifier              0\n",
              "Item_Weight                  0\n",
              "Item_Fat_Content             0\n",
              "Item_Visibility              0\n",
              "Item_Type                    0\n",
              "Item_MRP                     0\n",
              "Outlet_Identifier            0\n",
              "Outlet_Establishment_Year    0\n",
              "Outlet_Size                  0\n",
              "Outlet_Location_Type         0\n",
              "Outlet_Type                  0\n",
              "Item_Outlet_Sales            0\n",
              "dtype: int64"
            ]
          },
          "metadata": {},
          "execution_count": 12
        }
      ]
    },
    {
      "cell_type": "markdown",
      "source": [
        "# _ _ _ _ _ _ _ _ _ _**Inconsistencies** _ _ _ _ _ _ _ _ _ _ _ _  "
      ],
      "metadata": {
        "id": "lcGgdWTneKj6"
      }
    },
    {
      "cell_type": "code",
      "source": [
        "df.info()"
      ],
      "metadata": {
        "colab": {
          "base_uri": "https://localhost:8080/"
        },
        "id": "LOZr6ZMve-US",
        "outputId": "758e6424-7fa4-4f1b-9f77-6a9f7232b85c"
      },
      "execution_count": 13,
      "outputs": [
        {
          "output_type": "stream",
          "name": "stdout",
          "text": [
            "<class 'pandas.core.frame.DataFrame'>\n",
            "Int64Index: 6113 entries, 0 to 8522\n",
            "Data columns (total 12 columns):\n",
            " #   Column                     Non-Null Count  Dtype  \n",
            "---  ------                     --------------  -----  \n",
            " 0   Item_Identifier            6113 non-null   object \n",
            " 1   Item_Weight                6113 non-null   float64\n",
            " 2   Item_Fat_Content           6113 non-null   object \n",
            " 3   Item_Visibility            6113 non-null   float64\n",
            " 4   Item_Type                  6113 non-null   object \n",
            " 5   Item_MRP                   6113 non-null   float64\n",
            " 6   Outlet_Identifier          6113 non-null   object \n",
            " 7   Outlet_Establishment_Year  6113 non-null   int64  \n",
            " 8   Outlet_Size                6113 non-null   object \n",
            " 9   Outlet_Location_Type       6113 non-null   object \n",
            " 10  Outlet_Type                6113 non-null   object \n",
            " 11  Item_Outlet_Sales          6113 non-null   float64\n",
            "dtypes: float64(4), int64(1), object(7)\n",
            "memory usage: 620.9+ KB\n"
          ]
        }
      ]
    },
    {
      "cell_type": "code",
      "source": [
        "for i in df.columns:\n",
        "  print(df[i].value_counts().sum)"
      ],
      "metadata": {
        "colab": {
          "base_uri": "https://localhost:8080/"
        },
        "id": "kZuDJSsegNBJ",
        "outputId": "8a89dbfd-cf07-4e56-eb09-79a85521de97"
      },
      "execution_count": 17,
      "outputs": [
        {
          "output_type": "stream",
          "name": "stdout",
          "text": [
            "<bound method NDFrame._add_numeric_operations.<locals>.sum of NCM07    7\n",
            "FDT07    7\n",
            "FDN21    7\n",
            "FDU12    7\n",
            "FDE11    7\n",
            "        ..\n",
            "FDZ02    1\n",
            "FDN52    1\n",
            "FDG28    1\n",
            "DRI59    1\n",
            "FDV31    1\n",
            "Name: Item_Identifier, Length: 1555, dtype: int64>\n",
            "<bound method NDFrame._add_numeric_operations.<locals>.sum of 12.650    1485\n",
            "12.150      58\n",
            "17.600      55\n",
            "13.650      49\n",
            "11.800      49\n",
            "          ... \n",
            "6.965        1\n",
            "9.035        1\n",
            "7.260        1\n",
            "7.360        1\n",
            "6.440        1\n",
            "Name: Item_Weight, Length: 409, dtype: int64>\n",
            "<bound method NDFrame._add_numeric_operations.<locals>.sum of Low Fat    3641\n",
            "Regular    2076\n",
            "LF          233\n",
            "reg          82\n",
            "low fat      81\n",
            "Name: Item_Fat_Content, dtype: int64>\n",
            "<bound method NDFrame._add_numeric_operations.<locals>.sum of 0.000000    382\n",
            "0.076975      3\n",
            "0.040912      2\n",
            "0.106539      2\n",
            "0.136286      2\n",
            "           ... \n",
            "0.046559      1\n",
            "0.073525      1\n",
            "0.014568      1\n",
            "0.070646      1\n",
            "0.044878      1\n",
            "Name: Item_Visibility, Length: 5641, dtype: int64>\n",
            "<bound method NDFrame._add_numeric_operations.<locals>.sum of Fruits and Vegetables    883\n",
            "Snack Foods              868\n",
            "Household                649\n",
            "Frozen Foods             615\n",
            "Dairy                    496\n",
            "Canned                   471\n",
            "Baking Goods             463\n",
            "Health and Hygiene       367\n",
            "Soft Drinks              312\n",
            "Meat                     309\n",
            "Breads                   179\n",
            "Hard Drinks              148\n",
            "Others                   123\n",
            "Starchy Foods            105\n",
            "Breakfast                 79\n",
            "Seafood                   46\n",
            "Name: Item_Type, dtype: int64>\n",
            "<bound method NDFrame._add_numeric_operations.<locals>.sum of 142.0154    6\n",
            "172.0422    6\n",
            "113.2834    5\n",
            "188.1872    5\n",
            "261.2910    5\n",
            "           ..\n",
            "219.5482    1\n",
            "57.3930     1\n",
            "105.8622    1\n",
            "101.2990    1\n",
            "75.4670     1\n",
            "Name: Item_MRP, Length: 4694, dtype: int64>\n",
            "<bound method NDFrame._add_numeric_operations.<locals>.sum of OUT027    935\n",
            "OUT013    932\n",
            "OUT049    930\n",
            "OUT046    930\n",
            "OUT035    930\n",
            "OUT018    928\n",
            "OUT019    528\n",
            "Name: Outlet_Identifier, dtype: int64>\n",
            "<bound method NDFrame._add_numeric_operations.<locals>.sum of 1985    1463\n",
            "1987     932\n",
            "1999     930\n",
            "1997     930\n",
            "2004     930\n",
            "2009     928\n",
            "Name: Outlet_Establishment_Year, dtype: int64>\n",
            "<bound method NDFrame._add_numeric_operations.<locals>.sum of Medium    2793\n",
            "Small     2388\n",
            "High       932\n",
            "Name: Outlet_Size, dtype: int64>\n",
            "<bound method NDFrame._add_numeric_operations.<locals>.sum of Tier 3    2795\n",
            "Tier 1    2388\n",
            "Tier 2     930\n",
            "Name: Outlet_Location_Type, dtype: int64>\n",
            "<bound method NDFrame._add_numeric_operations.<locals>.sum of Supermarket Type1    3722\n",
            "Supermarket Type3     935\n",
            "Supermarket Type2     928\n",
            "Grocery Store         528\n",
            "Name: Outlet_Type, dtype: int64>\n",
            "<bound method NDFrame._add_numeric_operations.<locals>.sum of 1342.2528    12\n",
            "1438.1280    12\n",
            "1845.5976    11\n",
            "958.7520     11\n",
            "2109.2544    10\n",
            "             ..\n",
            "2040.0112     1\n",
            "3981.4840     1\n",
            "3280.3966     1\n",
            "4756.4752     1\n",
            "2778.3834     1\n",
            "Name: Item_Outlet_Sales, Length: 3056, dtype: int64>\n"
          ]
        }
      ]
    },
    {
      "cell_type": "markdown",
      "source": [
        "Found: \n",
        "      #\"reg\", \"LF\", \"low fat\" inside of Item_Weight "
      ],
      "metadata": {
        "id": "076TOph6gq3o"
      }
    },
    {
      "cell_type": "markdown",
      "source": [
        "Fixing it:"
      ],
      "metadata": {
        "id": "lA7WrRRBimM7"
      }
    },
    {
      "cell_type": "code",
      "source": [
        "# Fixing it by using df.replace:\n",
        "df[\"Item_Weight\"] = df[\"Item_Weight\"].replace({\"reg\": \"Regular\", \"LF\":\"Low Fat\", \"low fat\": \"Low Fat\"})"
      ],
      "metadata": {
        "id": "6WZZWTd_gspx"
      },
      "execution_count": 18,
      "outputs": []
    },
    {
      "cell_type": "markdown",
      "source": [
        "# _ _ _ _ _ _ _ Statistics _ _ _ _ _ _ _ _ "
      ],
      "metadata": {
        "id": "JggBS8dMja-c"
      }
    },
    {
      "cell_type": "code",
      "source": [
        "df.describe()"
      ],
      "metadata": {
        "colab": {
          "base_uri": "https://localhost:8080/",
          "height": 300
        },
        "id": "RRS0BU3Nj_DU",
        "outputId": "86ea225b-2ddf-419a-9dd1-fc8dfe734178"
      },
      "execution_count": 20,
      "outputs": [
        {
          "output_type": "execute_result",
          "data": {
            "text/plain": [
              "       Item_Weight  Item_Visibility     Item_MRP  Outlet_Establishment_Year  \\\n",
              "count  6113.000000      6113.000000  6113.000000                6113.000000   \n",
              "mean     12.839161         0.064505   141.256859                1995.794373   \n",
              "std       4.075142         0.050092    62.229701                   8.842615   \n",
              "min       4.555000         0.000000    31.290000                1985.000000   \n",
              "25%       9.800000         0.026681    94.012000                1987.000000   \n",
              "50%      12.650000         0.052811   143.178600                1997.000000   \n",
              "75%      15.700000         0.092834   185.892400                2004.000000   \n",
              "max      21.350000         0.328391   266.888400                2009.000000   \n",
              "\n",
              "       Item_Outlet_Sales  \n",
              "count        6113.000000  \n",
              "mean         2322.688445  \n",
              "std          1741.592093  \n",
              "min            33.955800  \n",
              "25%           974.731200  \n",
              "50%          1928.156800  \n",
              "75%          3271.075400  \n",
              "max         13086.964800  "
            ],
            "text/html": [
              "\n",
              "  <div id=\"df-e3023e76-cd65-4677-b8bd-22a4fbfb14ba\">\n",
              "    <div class=\"colab-df-container\">\n",
              "      <div>\n",
              "<style scoped>\n",
              "    .dataframe tbody tr th:only-of-type {\n",
              "        vertical-align: middle;\n",
              "    }\n",
              "\n",
              "    .dataframe tbody tr th {\n",
              "        vertical-align: top;\n",
              "    }\n",
              "\n",
              "    .dataframe thead th {\n",
              "        text-align: right;\n",
              "    }\n",
              "</style>\n",
              "<table border=\"1\" class=\"dataframe\">\n",
              "  <thead>\n",
              "    <tr style=\"text-align: right;\">\n",
              "      <th></th>\n",
              "      <th>Item_Weight</th>\n",
              "      <th>Item_Visibility</th>\n",
              "      <th>Item_MRP</th>\n",
              "      <th>Outlet_Establishment_Year</th>\n",
              "      <th>Item_Outlet_Sales</th>\n",
              "    </tr>\n",
              "  </thead>\n",
              "  <tbody>\n",
              "    <tr>\n",
              "      <th>count</th>\n",
              "      <td>6113.000000</td>\n",
              "      <td>6113.000000</td>\n",
              "      <td>6113.000000</td>\n",
              "      <td>6113.000000</td>\n",
              "      <td>6113.000000</td>\n",
              "    </tr>\n",
              "    <tr>\n",
              "      <th>mean</th>\n",
              "      <td>12.839161</td>\n",
              "      <td>0.064505</td>\n",
              "      <td>141.256859</td>\n",
              "      <td>1995.794373</td>\n",
              "      <td>2322.688445</td>\n",
              "    </tr>\n",
              "    <tr>\n",
              "      <th>std</th>\n",
              "      <td>4.075142</td>\n",
              "      <td>0.050092</td>\n",
              "      <td>62.229701</td>\n",
              "      <td>8.842615</td>\n",
              "      <td>1741.592093</td>\n",
              "    </tr>\n",
              "    <tr>\n",
              "      <th>min</th>\n",
              "      <td>4.555000</td>\n",
              "      <td>0.000000</td>\n",
              "      <td>31.290000</td>\n",
              "      <td>1985.000000</td>\n",
              "      <td>33.955800</td>\n",
              "    </tr>\n",
              "    <tr>\n",
              "      <th>25%</th>\n",
              "      <td>9.800000</td>\n",
              "      <td>0.026681</td>\n",
              "      <td>94.012000</td>\n",
              "      <td>1987.000000</td>\n",
              "      <td>974.731200</td>\n",
              "    </tr>\n",
              "    <tr>\n",
              "      <th>50%</th>\n",
              "      <td>12.650000</td>\n",
              "      <td>0.052811</td>\n",
              "      <td>143.178600</td>\n",
              "      <td>1997.000000</td>\n",
              "      <td>1928.156800</td>\n",
              "    </tr>\n",
              "    <tr>\n",
              "      <th>75%</th>\n",
              "      <td>15.700000</td>\n",
              "      <td>0.092834</td>\n",
              "      <td>185.892400</td>\n",
              "      <td>2004.000000</td>\n",
              "      <td>3271.075400</td>\n",
              "    </tr>\n",
              "    <tr>\n",
              "      <th>max</th>\n",
              "      <td>21.350000</td>\n",
              "      <td>0.328391</td>\n",
              "      <td>266.888400</td>\n",
              "      <td>2009.000000</td>\n",
              "      <td>13086.964800</td>\n",
              "    </tr>\n",
              "  </tbody>\n",
              "</table>\n",
              "</div>\n",
              "      <button class=\"colab-df-convert\" onclick=\"convertToInteractive('df-e3023e76-cd65-4677-b8bd-22a4fbfb14ba')\"\n",
              "              title=\"Convert this dataframe to an interactive table.\"\n",
              "              style=\"display:none;\">\n",
              "        \n",
              "  <svg xmlns=\"http://www.w3.org/2000/svg\" height=\"24px\"viewBox=\"0 0 24 24\"\n",
              "       width=\"24px\">\n",
              "    <path d=\"M0 0h24v24H0V0z\" fill=\"none\"/>\n",
              "    <path d=\"M18.56 5.44l.94 2.06.94-2.06 2.06-.94-2.06-.94-.94-2.06-.94 2.06-2.06.94zm-11 1L8.5 8.5l.94-2.06 2.06-.94-2.06-.94L8.5 2.5l-.94 2.06-2.06.94zm10 10l.94 2.06.94-2.06 2.06-.94-2.06-.94-.94-2.06-.94 2.06-2.06.94z\"/><path d=\"M17.41 7.96l-1.37-1.37c-.4-.4-.92-.59-1.43-.59-.52 0-1.04.2-1.43.59L10.3 9.45l-7.72 7.72c-.78.78-.78 2.05 0 2.83L4 21.41c.39.39.9.59 1.41.59.51 0 1.02-.2 1.41-.59l7.78-7.78 2.81-2.81c.8-.78.8-2.07 0-2.86zM5.41 20L4 18.59l7.72-7.72 1.47 1.35L5.41 20z\"/>\n",
              "  </svg>\n",
              "      </button>\n",
              "      \n",
              "  <style>\n",
              "    .colab-df-container {\n",
              "      display:flex;\n",
              "      flex-wrap:wrap;\n",
              "      gap: 12px;\n",
              "    }\n",
              "\n",
              "    .colab-df-convert {\n",
              "      background-color: #E8F0FE;\n",
              "      border: none;\n",
              "      border-radius: 50%;\n",
              "      cursor: pointer;\n",
              "      display: none;\n",
              "      fill: #1967D2;\n",
              "      height: 32px;\n",
              "      padding: 0 0 0 0;\n",
              "      width: 32px;\n",
              "    }\n",
              "\n",
              "    .colab-df-convert:hover {\n",
              "      background-color: #E2EBFA;\n",
              "      box-shadow: 0px 1px 2px rgba(60, 64, 67, 0.3), 0px 1px 3px 1px rgba(60, 64, 67, 0.15);\n",
              "      fill: #174EA6;\n",
              "    }\n",
              "\n",
              "    [theme=dark] .colab-df-convert {\n",
              "      background-color: #3B4455;\n",
              "      fill: #D2E3FC;\n",
              "    }\n",
              "\n",
              "    [theme=dark] .colab-df-convert:hover {\n",
              "      background-color: #434B5C;\n",
              "      box-shadow: 0px 1px 3px 1px rgba(0, 0, 0, 0.15);\n",
              "      filter: drop-shadow(0px 1px 2px rgba(0, 0, 0, 0.3));\n",
              "      fill: #FFFFFF;\n",
              "    }\n",
              "  </style>\n",
              "\n",
              "      <script>\n",
              "        const buttonEl =\n",
              "          document.querySelector('#df-e3023e76-cd65-4677-b8bd-22a4fbfb14ba button.colab-df-convert');\n",
              "        buttonEl.style.display =\n",
              "          google.colab.kernel.accessAllowed ? 'block' : 'none';\n",
              "\n",
              "        async function convertToInteractive(key) {\n",
              "          const element = document.querySelector('#df-e3023e76-cd65-4677-b8bd-22a4fbfb14ba');\n",
              "          const dataTable =\n",
              "            await google.colab.kernel.invokeFunction('convertToInteractive',\n",
              "                                                     [key], {});\n",
              "          if (!dataTable) return;\n",
              "\n",
              "          const docLinkHtml = 'Like what you see? Visit the ' +\n",
              "            '<a target=\"_blank\" href=https://colab.research.google.com/notebooks/data_table.ipynb>data table notebook</a>'\n",
              "            + ' to learn more about interactive tables.';\n",
              "          element.innerHTML = '';\n",
              "          dataTable['output_type'] = 'display_data';\n",
              "          await google.colab.output.renderOutput(dataTable, element);\n",
              "          const docLink = document.createElement('div');\n",
              "          docLink.innerHTML = docLinkHtml;\n",
              "          element.appendChild(docLink);\n",
              "        }\n",
              "      </script>\n",
              "    </div>\n",
              "  </div>\n",
              "  "
            ]
          },
          "metadata": {},
          "execution_count": 20
        }
      ]
    }
  ]
}