{
  "nbformat": 4,
  "nbformat_minor": 0,
  "metadata": {
    "colab": {
      "provenance": [],
      "authorship_tag": "ABX9TyNM6YigbM2VVJVLaehAkiOA",
      "include_colab_link": true
    },
    "kernelspec": {
      "name": "python3",
      "display_name": "Python 3"
    },
    "language_info": {
      "name": "python"
    }
  },
  "cells": [
    {
      "cell_type": "markdown",
      "metadata": {
        "id": "view-in-github",
        "colab_type": "text"
      },
      "source": [
        "<a href=\"https://colab.research.google.com/github/Soichiro-Gardinner/Osc/blob/main/Analysis.ipynb\" target=\"_parent\"><img src=\"https://colab.research.google.com/assets/colab-badge.svg\" alt=\"Open In Colab\"/></a>"
      ]
    },
    {
      "cell_type": "code",
      "execution_count": null,
      "metadata": {
        "colab": {
          "base_uri": "https://localhost:8080/"
        },
        "id": "ziDjIiF9cgH1",
        "outputId": "96c8b9e2-78fa-4ea0-ba4e-df8320c9ed9b"
      },
      "outputs": [
        {
          "output_type": "stream",
          "name": "stdout",
          "text": [
            "   Order ID                   Product Quantity Ordered Price Each  \\\n",
            "0    248151     AA Batteries (4-pack)                4       3.84   \n",
            "1    248152      USB-C Charging Cable                2      11.95   \n",
            "2    248153      USB-C Charging Cable                1      11.95   \n",
            "3    248154          27in FHD Monitor                1     149.99   \n",
            "4    248155      USB-C Charging Cable                1      11.95   \n",
            "5    248156    34in Ultrawide Monitor                1     379.99   \n",
            "6    248157  Lightning Charging Cable                1      14.95   \n",
            "7    248158  Lightning Charging Cable                1      14.95   \n",
            "8    248159           Vareebadd Phone                1      400.0   \n",
            "9    248160          Wired Headphones                1      11.99   \n",
            "10   248161      USB-C Charging Cable                1      11.95   \n",
            "11   248162    AAA Batteries (4-pack)                3       2.99   \n",
            "12   248163      USB-C Charging Cable                1      11.95   \n",
            "13   248164          27in FHD Monitor                1     149.99   \n",
            "14   248165  Lightning Charging Cable                1      14.95   \n",
            "15   248166  Apple Airpods Headphones                1      150.0   \n",
            "16   248167              Google Phone                1      600.0   \n",
            "17   248168      USB-C Charging Cable                1      11.95   \n",
            "18   248169              20in Monitor                1     109.99   \n",
            "19   248170    AAA Batteries (4-pack)                1       2.99   \n",
            "\n",
            "        Order Date                         Purchase Address  \n",
            "0   09/17/19 14:44      380 North St, Los Angeles, CA 90001  \n",
            "1   09/29/19 10:19             511 8th St, Austin, TX 73301  \n",
            "2   09/16/19 17:48    151 Johnson St, Los Angeles, CA 90001  \n",
            "3   09/27/19 07:52        355 Hickory St, Seattle, WA 98101  \n",
            "4   09/01/19 19:03            125 5th St, Atlanta, GA 30301  \n",
            "5   09/13/19 14:59       469 12th St, Los Angeles, CA 90001  \n",
            "6   09/07/19 09:59       773 Johnson St, Portland, ME 04101  \n",
            "7   09/02/19 14:16     682 Sunset St, Los Angeles, CA 90001  \n",
            "8   09/06/19 16:45   664 Wilson St, New York City, NY 10001  \n",
            "9   09/01/19 22:03      446 9th St, San Francisco, CA 94016  \n",
            "10  09/24/19 16:26   439 Spruce St, San Francisco, CA 94016  \n",
            "11  09/14/19 12:52         439 Walnut St, Seattle, WA 98101  \n",
            "12  09/25/19 12:32          41 North St, Portland, OR 97035  \n",
            "13  09/12/19 15:57       88 9th St, San Francisco, CA 94016  \n",
            "14  09/15/19 12:42          585 Adams St, Atlanta, GA 30301  \n",
            "15  09/04/19 14:59              21 9th St, Boston, MA 02215  \n",
            "16  09/02/19 18:52   711 Forest St, San Francisco, CA 94016  \n",
            "17  09/30/19 18:59  219 Hickory St, San Francisco, CA 94016  \n",
            "18  09/24/19 19:40    140 Ridge St, San Francisco, CA 94016  \n",
            "19  09/04/19 02:01            857 Main St, Boston, MA 02215  \n"
          ]
        }
      ],
      "source": [
        "\n",
        "import pandas as pd\n",
        "import matplotlib.pyplot as plt \n",
        "\n",
        "df = pd.read_csv(\"All_Months.csv\")\n",
        "print(df.head(20))\n",
        "df = df.dropna(how =\"all\") "
      ]
    },
    {
      "cell_type": "code",
      "source": [
        "print(df.columns)"
      ],
      "metadata": {
        "colab": {
          "base_uri": "https://localhost:8080/"
        },
        "id": "xepiv8KkAqVG",
        "outputId": "d7b1af62-b821-4ea6-eef8-8b6e15076450"
      },
      "execution_count": null,
      "outputs": [
        {
          "output_type": "stream",
          "name": "stdout",
          "text": [
            "Index(['Order ID', 'Product', 'Quantity Ordered', 'Price Each', 'Order Date',\n",
            "       'Purchase Address'],\n",
            "      dtype='object')\n"
          ]
        }
      ]
    },
    {
      "cell_type": "code",
      "source": [
        "df['Quantity Ordered'] = df['Quantity Ordered'] != 'Quantity Ordered'\n",
        "df['Quantity Ordered'] = df['Quantity Ordered'].astype(\"int32\")\n",
        "\n",
        "\n"
      ],
      "metadata": {
        "id": "KSkAGsqEA0ho"
      },
      "execution_count": null,
      "outputs": []
    },
    {
      "cell_type": "code",
      "source": [
        "#Months Dictionay\n",
        "Month = {\"01\": \"January\",'02': \"February\",\"03\":\"March\",\"04\":\"April\",\"05\":\"May\",\n",
        " \"06\":\"June\",\"07\":\"July\",\"08\":\"August\",\"09\":\"September\",\"10\":\"October\",\n",
        " \"11\":\"November\",\"12\":\"December\"}"
      ],
      "metadata": {
        "id": "-dJ14oYyf167"
      },
      "execution_count": null,
      "outputs": []
    },
    {
      "cell_type": "code",
      "source": [
        "#Month Column\n",
        "\n",
        "df[\"Month\"] = df[\"Order Date\"].str[0:2]\n",
        "\n",
        "df = df.dropna(how= \"all\")\n",
        "\n",
        "df = df[df[\"Order Date\"].str[0:2] != \"Or\"]\n",
        "\n",
        "df[\"Month_Num\"] = df[\"Month\"].astype(\"int32\")\n",
        "\n",
        "df['Month'] = df[\"Month\"].apply(lambda x: Month.get(x,\"Nope\"))"
      ],
      "metadata": {
        "id": "HrScsIjUfibR"
      },
      "execution_count": null,
      "outputs": []
    },
    {
      "cell_type": "code",
      "source": [
        "print(df.head())"
      ],
      "metadata": {
        "id": "gxm5nyNIFBgt",
        "colab": {
          "base_uri": "https://localhost:8080/"
        },
        "outputId": "a1dc8003-8ad7-4009-c11b-4e4cc77ae036"
      },
      "execution_count": null,
      "outputs": [
        {
          "output_type": "stream",
          "name": "stdout",
          "text": [
            "  Order ID                Product  Quantity Ordered Price Each  \\\n",
            "0   248151  AA Batteries (4-pack)                 1       3.84   \n",
            "1   248152   USB-C Charging Cable                 1      11.95   \n",
            "2   248153   USB-C Charging Cable                 1      11.95   \n",
            "3   248154       27in FHD Monitor                 1     149.99   \n",
            "4   248155   USB-C Charging Cable                 1      11.95   \n",
            "\n",
            "       Order Date                       Purchase Address      Month  Month_Num  \n",
            "0  09/17/19 14:44    380 North St, Los Angeles, CA 90001  September          9  \n",
            "1  09/29/19 10:19           511 8th St, Austin, TX 73301  September          9  \n",
            "2  09/16/19 17:48  151 Johnson St, Los Angeles, CA 90001  September          9  \n",
            "3  09/27/19 07:52      355 Hickory St, Seattle, WA 98101  September          9  \n",
            "4  09/01/19 19:03          125 5th St, Atlanta, GA 30301  September          9  \n"
          ]
        }
      ]
    },
    {
      "cell_type": "code",
      "source": [
        "#Total Sells Earnings"
      ],
      "metadata": {
        "id": "RRAcxCSHygVu"
      },
      "execution_count": null,
      "outputs": []
    },
    {
      "cell_type": "code",
      "source": [
        "df[\"Total Sells\"] = df['Price Each'].astype(\"float32\") * df['Quantity Ordered'].astype(\"int32\") \n",
        "print(df.head(3))"
      ],
      "metadata": {
        "id": "mFBZiax4yzSb",
        "colab": {
          "base_uri": "https://localhost:8080/"
        },
        "outputId": "dcb770b2-c1a9-4930-da65-13e47b348574"
      },
      "execution_count": null,
      "outputs": [
        {
          "output_type": "stream",
          "name": "stdout",
          "text": [
            "  Order ID                Product  Quantity Ordered Price Each  \\\n",
            "0   248151  AA Batteries (4-pack)                 1       3.84   \n",
            "1   248152   USB-C Charging Cable                 1      11.95   \n",
            "2   248153   USB-C Charging Cable                 1      11.95   \n",
            "\n",
            "       Order Date                       Purchase Address      Month  \\\n",
            "0  09/17/19 14:44    380 North St, Los Angeles, CA 90001  September   \n",
            "1  09/29/19 10:19           511 8th St, Austin, TX 73301  September   \n",
            "2  09/16/19 17:48  151 Johnson St, Los Angeles, CA 90001  September   \n",
            "\n",
            "   Month_Num  Total Sells  \n",
            "0          9         3.84  \n",
            "1          9        11.95  \n",
            "2          9        11.95  \n"
          ]
        }
      ]
    },
    {
      "cell_type": "code",
      "source": [
        "print(df.groupby(\"Month\").sum())\n",
        "print(\"++++++++++\")\n",
        "df.groupby(\"Month_Num\").sum()"
      ],
      "metadata": {
        "id": "UwD40LxA1jXk",
        "colab": {
          "base_uri": "https://localhost:8080/",
          "height": 230
        },
        "outputId": "9f8fe840-8915-4711-f2bc-1e99b815e7a2"
      },
      "execution_count": null,
      "outputs": [
        {
          "output_type": "stream",
          "name": "stdout",
          "text": [
            "           Quantity Ordered  Month_Num   Total Sells\n",
            "Month                                               \n",
            "October                  20        200  3.347330e+03\n",
            "September             11609     104481  2.082895e+06\n",
            "++++++++++\n"
          ]
        },
        {
          "output_type": "execute_result",
          "data": {
            "text/plain": [
              "           Quantity Ordered   Total Sells\n",
              "Month_Num                                \n",
              "9                     11609  2.082895e+06\n",
              "10                       20  3.347330e+03"
            ],
            "text/html": [
              "\n",
              "  <div id=\"df-372e7e11-e7bc-486b-a310-d1bc9a00fac5\">\n",
              "    <div class=\"colab-df-container\">\n",
              "      <div>\n",
              "<style scoped>\n",
              "    .dataframe tbody tr th:only-of-type {\n",
              "        vertical-align: middle;\n",
              "    }\n",
              "\n",
              "    .dataframe tbody tr th {\n",
              "        vertical-align: top;\n",
              "    }\n",
              "\n",
              "    .dataframe thead th {\n",
              "        text-align: right;\n",
              "    }\n",
              "</style>\n",
              "<table border=\"1\" class=\"dataframe\">\n",
              "  <thead>\n",
              "    <tr style=\"text-align: right;\">\n",
              "      <th></th>\n",
              "      <th>Quantity Ordered</th>\n",
              "      <th>Total Sells</th>\n",
              "    </tr>\n",
              "    <tr>\n",
              "      <th>Month_Num</th>\n",
              "      <th></th>\n",
              "      <th></th>\n",
              "    </tr>\n",
              "  </thead>\n",
              "  <tbody>\n",
              "    <tr>\n",
              "      <th>9</th>\n",
              "      <td>11609</td>\n",
              "      <td>2.082895e+06</td>\n",
              "    </tr>\n",
              "    <tr>\n",
              "      <th>10</th>\n",
              "      <td>20</td>\n",
              "      <td>3.347330e+03</td>\n",
              "    </tr>\n",
              "  </tbody>\n",
              "</table>\n",
              "</div>\n",
              "      <button class=\"colab-df-convert\" onclick=\"convertToInteractive('df-372e7e11-e7bc-486b-a310-d1bc9a00fac5')\"\n",
              "              title=\"Convert this dataframe to an interactive table.\"\n",
              "              style=\"display:none;\">\n",
              "        \n",
              "  <svg xmlns=\"http://www.w3.org/2000/svg\" height=\"24px\"viewBox=\"0 0 24 24\"\n",
              "       width=\"24px\">\n",
              "    <path d=\"M0 0h24v24H0V0z\" fill=\"none\"/>\n",
              "    <path d=\"M18.56 5.44l.94 2.06.94-2.06 2.06-.94-2.06-.94-.94-2.06-.94 2.06-2.06.94zm-11 1L8.5 8.5l.94-2.06 2.06-.94-2.06-.94L8.5 2.5l-.94 2.06-2.06.94zm10 10l.94 2.06.94-2.06 2.06-.94-2.06-.94-.94-2.06-.94 2.06-2.06.94z\"/><path d=\"M17.41 7.96l-1.37-1.37c-.4-.4-.92-.59-1.43-.59-.52 0-1.04.2-1.43.59L10.3 9.45l-7.72 7.72c-.78.78-.78 2.05 0 2.83L4 21.41c.39.39.9.59 1.41.59.51 0 1.02-.2 1.41-.59l7.78-7.78 2.81-2.81c.8-.78.8-2.07 0-2.86zM5.41 20L4 18.59l7.72-7.72 1.47 1.35L5.41 20z\"/>\n",
              "  </svg>\n",
              "      </button>\n",
              "      \n",
              "  <style>\n",
              "    .colab-df-container {\n",
              "      display:flex;\n",
              "      flex-wrap:wrap;\n",
              "      gap: 12px;\n",
              "    }\n",
              "\n",
              "    .colab-df-convert {\n",
              "      background-color: #E8F0FE;\n",
              "      border: none;\n",
              "      border-radius: 50%;\n",
              "      cursor: pointer;\n",
              "      display: none;\n",
              "      fill: #1967D2;\n",
              "      height: 32px;\n",
              "      padding: 0 0 0 0;\n",
              "      width: 32px;\n",
              "    }\n",
              "\n",
              "    .colab-df-convert:hover {\n",
              "      background-color: #E2EBFA;\n",
              "      box-shadow: 0px 1px 2px rgba(60, 64, 67, 0.3), 0px 1px 3px 1px rgba(60, 64, 67, 0.15);\n",
              "      fill: #174EA6;\n",
              "    }\n",
              "\n",
              "    [theme=dark] .colab-df-convert {\n",
              "      background-color: #3B4455;\n",
              "      fill: #D2E3FC;\n",
              "    }\n",
              "\n",
              "    [theme=dark] .colab-df-convert:hover {\n",
              "      background-color: #434B5C;\n",
              "      box-shadow: 0px 1px 3px 1px rgba(0, 0, 0, 0.15);\n",
              "      filter: drop-shadow(0px 1px 2px rgba(0, 0, 0, 0.3));\n",
              "      fill: #FFFFFF;\n",
              "    }\n",
              "  </style>\n",
              "\n",
              "      <script>\n",
              "        const buttonEl =\n",
              "          document.querySelector('#df-372e7e11-e7bc-486b-a310-d1bc9a00fac5 button.colab-df-convert');\n",
              "        buttonEl.style.display =\n",
              "          google.colab.kernel.accessAllowed ? 'block' : 'none';\n",
              "\n",
              "        async function convertToInteractive(key) {\n",
              "          const element = document.querySelector('#df-372e7e11-e7bc-486b-a310-d1bc9a00fac5');\n",
              "          const dataTable =\n",
              "            await google.colab.kernel.invokeFunction('convertToInteractive',\n",
              "                                                     [key], {});\n",
              "          if (!dataTable) return;\n",
              "\n",
              "          const docLinkHtml = 'Like what you see? Visit the ' +\n",
              "            '<a target=\"_blank\" href=https://colab.research.google.com/notebooks/data_table.ipynb>data table notebook</a>'\n",
              "            + ' to learn more about interactive tables.';\n",
              "          element.innerHTML = '';\n",
              "          dataTable['output_type'] = 'display_data';\n",
              "          await google.colab.output.renderOutput(dataTable, element);\n",
              "          const docLink = document.createElement('div');\n",
              "          docLink.innerHTML = docLinkHtml;\n",
              "          element.appendChild(docLink);\n",
              "        }\n",
              "      </script>\n",
              "    </div>\n",
              "  </div>\n",
              "  "
            ]
          },
          "metadata": {},
          "execution_count": 10
        }
      ]
    },
    {
      "cell_type": "code",
      "source": [
        "plt.bar(df.Month,df[\"Total Sells\"])"
      ],
      "metadata": {
        "id": "XR8Ao4R69Jjn",
        "colab": {
          "base_uri": "https://localhost:8080/",
          "height": 282
        },
        "outputId": "9aceb8f6-b33c-496d-86bc-c05107d0c769"
      },
      "execution_count": null,
      "outputs": [
        {
          "output_type": "execute_result",
          "data": {
            "text/plain": [
              "<BarContainer object of 11629 artists>"
            ]
          },
          "metadata": {},
          "execution_count": 11
        },
        {
          "output_type": "display_data",
          "data": {
            "text/plain": [
              "<Figure size 432x288 with 1 Axes>"
            ],
            "image/png": "[encoded data removed]"
          },
          "metadata": {
            "needs_background": "light"
          }
        }
      ]
    },
    {
      "cell_type": "code",
      "source": [
        "df[\"Cities\"] = df[\"Purchase Address\"].apply(lambda x: x.split(\",\")[1])\n",
        "print(df.head())"
      ],
      "metadata": {
        "id": "fNBFoOpH08sY",
        "colab": {
          "base_uri": "https://localhost:8080/"
        },
        "outputId": "c3004097-5005-4529-f356-a001d86ccd0f"
      },
      "execution_count": null,
      "outputs": [
        {
          "output_type": "stream",
          "name": "stdout",
          "text": [
            "  Order ID                Product  Quantity Ordered Price Each  \\\n",
            "0   248151  AA Batteries (4-pack)                 1       3.84   \n",
            "1   248152   USB-C Charging Cable                 1      11.95   \n",
            "2   248153   USB-C Charging Cable                 1      11.95   \n",
            "3   248154       27in FHD Monitor                 1     149.99   \n",
            "4   248155   USB-C Charging Cable                 1      11.95   \n",
            "\n",
            "       Order Date                       Purchase Address      Month  \\\n",
            "0  09/17/19 14:44    380 North St, Los Angeles, CA 90001  September   \n",
            "1  09/29/19 10:19           511 8th St, Austin, TX 73301  September   \n",
            "2  09/16/19 17:48  151 Johnson St, Los Angeles, CA 90001  September   \n",
            "3  09/27/19 07:52      355 Hickory St, Seattle, WA 98101  September   \n",
            "4  09/01/19 19:03          125 5th St, Atlanta, GA 30301  September   \n",
            "\n",
            "   Month_Num  Total Sells        Cities  \n",
            "0          9     3.840000   Los Angeles  \n",
            "1          9    11.950000        Austin  \n",
            "2          9    11.950000   Los Angeles  \n",
            "3          9   149.990005       Seattle  \n",
            "4          9    11.950000       Atlanta  \n"
          ]
        }
      ]
    },
    {
      "cell_type": "code",
      "source": [
        "#df[\"State\"] = df[\"Purchase Address\"]\n",
        "#df[\"State\"] = df[\"Purchase Address\"].apply(lambda x : x.split(\",\")[2])\n",
        "#print(df.State)\n",
        "#df.State = df.State.apply(lambda x : x.split())"
      ],
      "metadata": {
        "id": "Dh_d_m0UjzQ4"
      },
      "execution_count": null,
      "outputs": []
    },
    {
      "cell_type": "code",
      "source": [
        "#Most sels\n",
        "a = df.groupby(\"Cities\").sum()\n",
        "print(a)\n",
        "ass = df.groupby(\"Total Sells\").sum()\n",
        "\n",
        "\n",
        "#Earnings\n",
        "print(\"Earnings\")\n",
        "aa = [i for i in a[\"Total Sells\"]]\n",
        "print(aa)\n",
        "#cities\n",
        "print(\"Cities\")\n",
        "x = [\"Atlanta\",\"Austin\",\"Boston\",\"Dallas\",\"Los Angeles\",\"New York City\",\"Portland\",\n",
        "\"San Francisco\",\"Seattle\"]\n",
        "print(x)\n",
        "\n",
        "#Pie Chart \n",
        "\n",
        "plt.pie(aa,labels= x,autopct='%1.1f%%')\n",
        "plt.title(label= \"Earning Persentages\",size = 40, fontdict = {\"Style\" : \"italic\",\"color\":\"r\"})"
      ],
      "metadata": {
        "id": "tPVaNX255He4",
        "colab": {
          "base_uri": "https://localhost:8080/",
          "height": 585
        },
        "outputId": "eea15068-0927-4b1e-b44f-9a674b9cd836"
      },
      "execution_count": null,
      "outputs": [
        {
          "output_type": "stream",
          "name": "stdout",
          "text": [
            "                Quantity Ordered  Month_Num    Total Sells\n",
            "Cities                                                    \n",
            " Atlanta                     915       8235  169923.849077\n",
            " Austin                      666       5997  105952.809462\n",
            " Boston                     1283      11548  245551.728882\n",
            " Dallas                      935       8416  163079.019117\n",
            " Los Angeles                1884      16960  352668.548126\n",
            " New York City              1536      13827  299708.028823\n",
            " Portland                    739       6652  132194.999290\n",
            " San Francisco              2734      24613  461866.007585\n",
            " Seattle                     937       8433  155297.679187\n",
            "Earnings\n",
            "[169923.8490767479, 105952.80946183205, 245551.72888207436, 163079.01911711693, 352668.54812550545, 299708.02882266045, 132194.99928951263, 461866.00758481026, 155297.67918658257]\n",
            "Cities\n",
            "['Atlanta', 'Austin', 'Boston', 'Dallas', 'Los Angeles', 'New York City', 'Portland', 'San Francisco', 'Seattle']\n"
          ]
        },
        {
          "output_type": "execute_result",
          "data": {
            "text/plain": [
              "Text(0.5, 1.0, 'Earning Persentages')"
            ]
          },
          "metadata": {},
          "execution_count": 14
        },
        {
          "output_type": "display_data",
          "data": {
            "text/plain": [
              "<Figure size 432x288 with 1 Axes>"
            ],
            "image/png": "[encoded data removed]"
          },
          "metadata": {}
        }
      ]
    },
    {
      "cell_type": "code",
      "source": [
        "W = df.groupby(\"Product\").sum()\n",
        "s = W[\"Quantity Ordered\"]\n",
        "SS = [City for City , i in df.groupby(\"Cities\")]\n",
        "P = [Product for Product , i in df.groupby(\"Product\")]\n",
        "P = P\n",
        "plt.bar(P,s)\n",
        "\n",
        "plt.xticks( P, rotation = \"vertical\")\n"
      ],
      "metadata": {
        "id": "5srSjsddyZai",
        "colab": {
          "base_uri": "https://localhost:8080/",
          "height": 753
        },
        "outputId": "cf278f32-6675-4abf-9a81-1db6de7b9730"
      },
      "execution_count": null,
      "outputs": [
        {
          "output_type": "execute_result",
          "data": {
            "text/plain": [
              "([<matplotlib.axis.XTick at 0x7fe8e5cdad10>,\n",
              "  <matplotlib.axis.XTick at 0x7fe8e5cdacd0>,\n",
              "  <matplotlib.axis.XTick at 0x7fe8e5cda9d0>,\n",
              "  <matplotlib.axis.XTick at 0x7fe8e5e3eb90>,\n",
              "  <matplotlib.axis.XTick at 0x7fe8e5e3e690>,\n",
              "  <matplotlib.axis.XTick at 0x7fe8e5e3e150>,\n",
              "  <matplotlib.axis.XTick at 0x7fe8e5e42450>,\n",
              "  <matplotlib.axis.XTick at 0x7fe8e5e42990>,\n",
              "  <matplotlib.axis.XTick at 0x7fe8e5e42ed0>,\n",
              "  <matplotlib.axis.XTick at 0x7fe8e5e3e210>,\n",
              "  <matplotlib.axis.XTick at 0x7fe8e5e3f090>,\n",
              "  <matplotlib.axis.XTick at 0x7fe8e5e3f710>,\n",
              "  <matplotlib.axis.XTick at 0x7fe8e5e3fc50>,\n",
              "  <matplotlib.axis.XTick at 0x7fe8e5e3b210>,\n",
              "  <matplotlib.axis.XTick at 0x7fe8e5e3b710>,\n",
              "  <matplotlib.axis.XTick at 0x7fe8e5e3bc50>,\n",
              "  <matplotlib.axis.XTick at 0x7fe8e5e39210>,\n",
              "  <matplotlib.axis.XTick at 0x7fe8e5e39710>,\n",
              "  <matplotlib.axis.XTick at 0x7fe8e5e3b650>],\n",
              " <a list of 19 Text major ticklabel objects>)"
            ]
          },
          "metadata": {},
          "execution_count": 15
        },
        {
          "output_type": "display_data",
          "data": {
            "text/plain": [
              "<Figure size 432x288 with 1 Axes>"
            ],
            "image/png": "[encoded data removed]"
          },
          "metadata": {
            "needs_background": "light"
          }
        }
      ]
    },
    {
      "cell_type": "code",
      "source": [
        "'''def getcity(add):\n",
        "  return address.split(\",\")[1]'''\n",
        "\n",
        "def get_state(add):\n",
        "  return add.split(\",\")[2].split(\" \")[1] \n",
        "df[\"State\"] = \"(\"+ df[\"Purchase Address\"].apply(lambda x: get_state(x)) +\")\"\n",
        "\n",
        "print(df.head(10))"
      ],
      "metadata": {
        "id": "gBdKzm5HU1Ca",
        "colab": {
          "base_uri": "https://localhost:8080/"
        },
        "outputId": "5694a818-b20f-4b03-83e7-4504648f617d"
      },
      "execution_count": null,
      "outputs": [
        {
          "output_type": "stream",
          "name": "stdout",
          "text": [
            "  Order ID                   Product  Quantity Ordered Price Each  \\\n",
            "0   248151     AA Batteries (4-pack)                 1       3.84   \n",
            "1   248152      USB-C Charging Cable                 1      11.95   \n",
            "2   248153      USB-C Charging Cable                 1      11.95   \n",
            "3   248154          27in FHD Monitor                 1     149.99   \n",
            "4   248155      USB-C Charging Cable                 1      11.95   \n",
            "5   248156    34in Ultrawide Monitor                 1     379.99   \n",
            "6   248157  Lightning Charging Cable                 1      14.95   \n",
            "7   248158  Lightning Charging Cable                 1      14.95   \n",
            "8   248159           Vareebadd Phone                 1      400.0   \n",
            "9   248160          Wired Headphones                 1      11.99   \n",
            "\n",
            "       Order Date                        Purchase Address      Month  \\\n",
            "0  09/17/19 14:44     380 North St, Los Angeles, CA 90001  September   \n",
            "1  09/29/19 10:19            511 8th St, Austin, TX 73301  September   \n",
            "2  09/16/19 17:48   151 Johnson St, Los Angeles, CA 90001  September   \n",
            "3  09/27/19 07:52       355 Hickory St, Seattle, WA 98101  September   \n",
            "4  09/01/19 19:03           125 5th St, Atlanta, GA 30301  September   \n",
            "5  09/13/19 14:59      469 12th St, Los Angeles, CA 90001  September   \n",
            "6  09/07/19 09:59      773 Johnson St, Portland, ME 04101  September   \n",
            "7  09/02/19 14:16    682 Sunset St, Los Angeles, CA 90001  September   \n",
            "8  09/06/19 16:45  664 Wilson St, New York City, NY 10001  September   \n",
            "9  09/01/19 22:03     446 9th St, San Francisco, CA 94016  September   \n",
            "\n",
            "   Month_Num  Total Sells          Cities State  \n",
            "0          9     3.840000     Los Angeles  (CA)  \n",
            "1          9    11.950000          Austin  (TX)  \n",
            "2          9    11.950000     Los Angeles  (CA)  \n",
            "3          9   149.990005         Seattle  (WA)  \n",
            "4          9    11.950000         Atlanta  (GA)  \n",
            "5          9   379.989990     Los Angeles  (CA)  \n",
            "6          9    14.950000        Portland  (ME)  \n",
            "7          9    14.950000     Los Angeles  (CA)  \n",
            "8          9   400.000000   New York City  (NY)  \n",
            "9          9    11.990000   San Francisco  (CA)  \n"
          ]
        }
      ]
    },
    {
      "cell_type": "code",
      "source": [
        "cities = [i for i, o in df.groupby(\"Cities\")]\n",
        "plt.bar(cities,aa)\n",
        "plt.xticks(cities, rotation =\"vertical\")\n",
        "plt.xlabel(\"Cities\")\n",
        "#plt.yticks(aa)\n",
        "plt.ylabel(\"sells\")"
      ],
      "metadata": {
        "id": "du_R1xadXwWh",
        "colab": {
          "base_uri": "https://localhost:8080/",
          "height": 358
        },
        "outputId": "2fbf9fe1-41a0-4d3e-a021-ee685e225512"
      },
      "execution_count": null,
      "outputs": [
        {
          "output_type": "execute_result",
          "data": {
            "text/plain": [
              "Text(0, 0.5, 'sells')"
            ]
          },
          "metadata": {},
          "execution_count": 17
        },
        {
          "output_type": "display_data",
          "data": {
            "text/plain": [
              "<Figure size 432x288 with 1 Axes>"
            ],
            "image/png": "[encoded data removed]"
          },
          "metadata": {
            "needs_background": "light"
          }
        }
      ]
    },
    {
      "cell_type": "code",
      "source": [
        "df[\"Order Date\"] = pd.to_datetime(df[\"Order Date\"])\n",
        "df[\"Hour\"] = df[\"Order Date\"].dt.hour\n",
        "df[\"Minute\"] = df[\"Order Date\"].dt.minute\n",
        "print(df.head(20))"
      ],
      "metadata": {
        "id": "Ro7zEd5veQKw",
        "colab": {
          "base_uri": "https://localhost:8080/"
        },
        "outputId": "8612b262-9473-4209-b9ab-6adfa9d7c3c2"
      },
      "execution_count": null,
      "outputs": [
        {
          "output_type": "stream",
          "name": "stdout",
          "text": [
            "   Order ID                   Product  Quantity Ordered Price Each  \\\n",
            "0    248151     AA Batteries (4-pack)                 1       3.84   \n",
            "1    248152      USB-C Charging Cable                 1      11.95   \n",
            "2    248153      USB-C Charging Cable                 1      11.95   \n",
            "3    248154          27in FHD Monitor                 1     149.99   \n",
            "4    248155      USB-C Charging Cable                 1      11.95   \n",
            "5    248156    34in Ultrawide Monitor                 1     379.99   \n",
            "6    248157  Lightning Charging Cable                 1      14.95   \n",
            "7    248158  Lightning Charging Cable                 1      14.95   \n",
            "8    248159           Vareebadd Phone                 1      400.0   \n",
            "9    248160          Wired Headphones                 1      11.99   \n",
            "10   248161      USB-C Charging Cable                 1      11.95   \n",
            "11   248162    AAA Batteries (4-pack)                 1       2.99   \n",
            "12   248163      USB-C Charging Cable                 1      11.95   \n",
            "13   248164          27in FHD Monitor                 1     149.99   \n",
            "14   248165  Lightning Charging Cable                 1      14.95   \n",
            "15   248166  Apple Airpods Headphones                 1      150.0   \n",
            "16   248167              Google Phone                 1      600.0   \n",
            "17   248168      USB-C Charging Cable                 1      11.95   \n",
            "18   248169              20in Monitor                 1     109.99   \n",
            "19   248170    AAA Batteries (4-pack)                 1       2.99   \n",
            "\n",
            "            Order Date                         Purchase Address      Month  \\\n",
            "0  2019-09-17 14:44:00      380 North St, Los Angeles, CA 90001  September   \n",
            "1  2019-09-29 10:19:00             511 8th St, Austin, TX 73301  September   \n",
            "2  2019-09-16 17:48:00    151 Johnson St, Los Angeles, CA 90001  September   \n",
            "3  2019-09-27 07:52:00        355 Hickory St, Seattle, WA 98101  September   \n",
            "4  2019-09-01 19:03:00            125 5th St, Atlanta, GA 30301  September   \n",
            "5  2019-09-13 14:59:00       469 12th St, Los Angeles, CA 90001  September   \n",
            "6  2019-09-07 09:59:00       773 Johnson St, Portland, ME 04101  September   \n",
            "7  2019-09-02 14:16:00     682 Sunset St, Los Angeles, CA 90001  September   \n",
            "8  2019-09-06 16:45:00   664 Wilson St, New York City, NY 10001  September   \n",
            "9  2019-09-01 22:03:00      446 9th St, San Francisco, CA 94016  September   \n",
            "10 2019-09-24 16:26:00   439 Spruce St, San Francisco, CA 94016  September   \n",
            "11 2019-09-14 12:52:00         439 Walnut St, Seattle, WA 98101  September   \n",
            "12 2019-09-25 12:32:00          41 North St, Portland, OR 97035  September   \n",
            "13 2019-09-12 15:57:00       88 9th St, San Francisco, CA 94016  September   \n",
            "14 2019-09-15 12:42:00          585 Adams St, Atlanta, GA 30301  September   \n",
            "15 2019-09-04 14:59:00              21 9th St, Boston, MA 02215  September   \n",
            "16 2019-09-02 18:52:00   711 Forest St, San Francisco, CA 94016  September   \n",
            "17 2019-09-30 18:59:00  219 Hickory St, San Francisco, CA 94016  September   \n",
            "18 2019-09-24 19:40:00    140 Ridge St, San Francisco, CA 94016  September   \n",
            "19 2019-09-04 02:01:00            857 Main St, Boston, MA 02215  September   \n",
            "\n",
            "    Month_Num  Total Sells          Cities State  Hour  Minute  \n",
            "0           9     3.840000     Los Angeles  (CA)    14      44  \n",
            "1           9    11.950000          Austin  (TX)    10      19  \n",
            "2           9    11.950000     Los Angeles  (CA)    17      48  \n",
            "3           9   149.990005         Seattle  (WA)     7      52  \n",
            "4           9    11.950000         Atlanta  (GA)    19       3  \n",
            "5           9   379.989990     Los Angeles  (CA)    14      59  \n",
            "6           9    14.950000        Portland  (ME)     9      59  \n",
            "7           9    14.950000     Los Angeles  (CA)    14      16  \n",
            "8           9   400.000000   New York City  (NY)    16      45  \n",
            "9           9    11.990000   San Francisco  (CA)    22       3  \n",
            "10          9    11.950000   San Francisco  (CA)    16      26  \n",
            "11          9     2.990000         Seattle  (WA)    12      52  \n",
            "12          9    11.950000        Portland  (OR)    12      32  \n",
            "13          9   149.990005   San Francisco  (CA)    15      57  \n",
            "14          9    14.950000         Atlanta  (GA)    12      42  \n",
            "15          9   150.000000          Boston  (MA)    14      59  \n",
            "16          9   600.000000   San Francisco  (CA)    18      52  \n",
            "17          9    11.950000   San Francisco  (CA)    18      59  \n",
            "18          9   109.989998   San Francisco  (CA)    19      40  \n",
            "19          9     2.990000          Boston  (MA)     2       1  \n"
          ]
        }
      ]
    },
    {
      "cell_type": "code",
      "source": [
        "hours = [hour for hour, i in df.groupby(\"Hour\")]\n",
        "plt.plot(hours , df.groupby([\"Hour\"]).count())\n",
        "plt.xticks(hours)\n",
        "plt.xlabel(\"hours\")\n",
        "plt.ylabel(\"number of orders\")\n",
        "plt.grid()\n",
        "plt.show()"
      ],
      "metadata": {
        "id": "rfWbFKh6kKib",
        "colab": {
          "base_uri": "https://localhost:8080/",
          "height": 279
        },
        "outputId": "db27b478-26f3-4fb6-e8f3-360a8d16ba4e"
      },
      "execution_count": null,
      "outputs": [
        {
          "output_type": "display_data",
          "data": {
            "text/plain": [
              "<Figure size 432x288 with 1 Axes>"
            ],
            "image/png": "[encoded data removed]"
          },
          "metadata": {
            "needs_background": "light"
          }
        }
      ]
    },
    {
      "cell_type": "code",
      "source": [
        "Q =df.groupby(\"Hour\").count()\n",
        "print(Q)"
      ],
      "metadata": {
        "id": "IJ66RiHOulTD",
        "colab": {
          "base_uri": "https://localhost:8080/"
        },
        "outputId": "30ef1ff5-b78b-4753-cbbf-c18746041d20"
      },
      "execution_count": null,
      "outputs": [
        {
          "output_type": "stream",
          "name": "stdout",
          "text": [
            "      Order ID  Product  Quantity Ordered  Price Each  Order Date  \\\n",
            "Hour                                                                \n",
            "0          260      260               260         260         260   \n",
            "1          164      164               164         164         164   \n",
            "2           78       78                78          78          78   \n",
            "3           55       55                55          55          55   \n",
            "4           39       39                39          39          39   \n",
            "5           89       89                89          89          89   \n",
            "6          144      144               144         144         144   \n",
            "7          217      217               217         217         217   \n",
            "8          375      375               375         375         375   \n",
            "9          563      563               563         563         563   \n",
            "10         630      630               630         630         630   \n",
            "11         761      761               761         761         761   \n",
            "12         775      775               775         775         775   \n",
            "13         764      764               764         764         764   \n",
            "14         732      732               732         732         732   \n",
            "15         608      608               608         608         608   \n",
            "16         622      622               622         622         622   \n",
            "17         735      735               735         735         735   \n",
            "18         745      745               745         745         745   \n",
            "19         793      793               793         793         793   \n",
            "20         722      722               722         722         722   \n",
            "21         752      752               752         752         752   \n",
            "22         586      586               586         586         586   \n",
            "23         420      420               420         420         420   \n",
            "\n",
            "      Purchase Address  Month  Month_Num  Total Sells  Cities  State  Minute  \n",
            "Hour                                                                          \n",
            "0                  260    260        260          260     260    260     260  \n",
            "1                  164    164        164          164     164    164     164  \n",
            "2                   78     78         78           78      78     78      78  \n",
            "3                   55     55         55           55      55     55      55  \n",
            "4                   39     39         39           39      39     39      39  \n",
            "5                   89     89         89           89      89     89      89  \n",
            "6                  144    144        144          144     144    144     144  \n",
            "7                  217    217        217          217     217    217     217  \n",
            "8                  375    375        375          375     375    375     375  \n",
            "9                  563    563        563          563     563    563     563  \n",
            "10                 630    630        630          630     630    630     630  \n",
            "11                 761    761        761          761     761    761     761  \n",
            "12                 775    775        775          775     775    775     775  \n",
            "13                 764    764        764          764     764    764     764  \n",
            "14                 732    732        732          732     732    732     732  \n",
            "15                 608    608        608          608     608    608     608  \n",
            "16                 622    622        622          622     622    622     622  \n",
            "17                 735    735        735          735     735    735     735  \n",
            "18                 745    745        745          745     745    745     745  \n",
            "19                 793    793        793          793     793    793     793  \n",
            "20                 722    722        722          722     722    722     722  \n",
            "21                 752    752        752          752     752    752     752  \n",
            "22                 586    586        586          586     586    586     586  \n",
            "23                 420    420        420          420     420    420     420  \n"
          ]
        }
      ]
    },
    {
      "cell_type": "code",
      "source": [
        "Af = df[df[\"Order ID\"].duplicated(keep = False )]\n",
        "Af[\"Grouped\"] = Af.groupby(\"Order ID\")[\"Product\"].transform(lambda x : \",\".join(x))\n",
        "Af = Af[[\"Order ID\", \"Grouped\"]].drop_duplicates()\n",
        "print(Af.head(20))"
      ],
      "metadata": {
        "id": "4kLl5dME1zgj",
        "colab": {
          "base_uri": "https://localhost:8080/"
        },
        "outputId": "ecc8edc2-e3bf-4dd5-9634-a6ff36b88438"
      },
      "execution_count": null,
      "outputs": [
        {
          "output_type": "stream",
          "name": "stdout",
          "text": [
            "    Order ID                                            Grouped\n",
            "20    248171          USB-C Charging Cable,USB-C Charging Cable\n",
            "60    248210                    iPhone,Lightning Charging Cable\n",
            "70    248219            Bose SoundSport Headphones,Google Phone\n",
            "117   248265         Vareebadd Phone,Bose SoundSport Headphones\n",
            "176   248323            Google Phone,Bose SoundSport Headphones\n",
            "183   248329                   Vareebadd Phone,Wired Headphones\n",
            "186   248331  iPhone,Lightning Charging Cable,Apple Airpods ...\n",
            "239   248381  Bose SoundSport Headphones,34in Ultrawide Monitor\n",
            "266   248407  iPhone,Lightning Charging Cable,Apple Airpods ...\n",
            "291   248430  Apple Airpods Headphones,Lightning Charging Cable\n",
            "393   248531            Google Phone,Bose SoundSport Headphones\n",
            "455   248592       27in 4K Gaming Monitor,AA Batteries (4-pack)\n",
            "480   248616                    iPhone,Apple Airpods Headphones\n",
            "544   248679               Vareebadd Phone,USB-C Charging Cable\n",
            "594   248727  Apple Airpods Headphones,Lightning Charging Cable\n",
            "599   248731  Lightning Charging Cable,Bose SoundSport Headp...\n",
            "615   248746     Lightning Charging Cable,AA Batteries (4-pack)\n",
            "657   248787        AA Batteries (4-pack),AA Batteries (4-pack)\n",
            "682   248811     Lightning Charging Cable,AA Batteries (4-pack)\n",
            "709   248837          Lightning Charging Cable,27in FHD Monitor\n"
          ]
        },
        {
          "output_type": "stream",
          "name": "stderr",
          "text": [
            "/usr/local/lib/python3.7/dist-packages/ipykernel_launcher.py:2: SettingWithCopyWarning: \n",
            "A value is trying to be set on a copy of a slice from a DataFrame.\n",
            "Try using .loc[row_indexer,col_indexer] = value instead\n",
            "\n",
            "See the caveats in the documentation: https://pandas.pydata.org/pandas-docs/stable/user_guide/indexing.html#returning-a-view-versus-a-copy\n",
            "  \n"
          ]
        }
      ]
    },
    {
      "cell_type": "code",
      "source": [
        "#Checking the most common product\n",
        "from itertools import combinations\n",
        "from collections import Counter\n",
        "\n",
        "count = Counter()\n",
        "for row in Af[\"Grouped\"]:\n",
        "  row_list = row.split(\",\")\n",
        "  count.update(Counter(combinations(row_list, 2)))\n",
        "\n",
        "#print(count.most_common(10))\n",
        "\n",
        "for key, value in count.most_common(10):\n",
        "  print(key,value)"
      ],
      "metadata": {
        "id": "wqck2_ODyRcA",
        "colab": {
          "base_uri": "https://localhost:8080/"
        },
        "outputId": "960751cd-6dc8-42b4-fbfd-3d48c3d8f5a6"
      },
      "execution_count": null,
      "outputs": [
        {
          "output_type": "stream",
          "name": "stdout",
          "text": [
            "('iPhone', 'Lightning Charging Cable') 61\n",
            "('Google Phone', 'USB-C Charging Cable') 60\n",
            "('iPhone', 'Wired Headphones') 27\n",
            "('Vareebadd Phone', 'USB-C Charging Cable') 22\n",
            "('iPhone', 'Apple Airpods Headphones') 18\n",
            "('Google Phone', 'Wired Headphones') 17\n",
            "('Google Phone', 'Bose SoundSport Headphones') 11\n",
            "('Lightning Charging Cable', 'Wired Headphones') 8\n",
            "('Vareebadd Phone', 'Wired Headphones') 6\n",
            "('USB-C Charging Cable', 'Wired Headphones') 6\n"
          ]
        }
      ]
    },
    {
      "cell_type": "code",
      "source": [
        "price = [i for i , o in df.groupby(\"Product\")]\n",
        "print(price)\n"
      ],
      "metadata": {
        "id": "ZTOeRYH_Tltq",
        "colab": {
          "base_uri": "https://localhost:8080/"
        },
        "outputId": "d6c033ff-8a87-47d0-c36b-d381c5462055"
      },
      "execution_count": null,
      "outputs": [
        {
          "output_type": "stream",
          "name": "stdout",
          "text": [
            "['20in Monitor', '27in 4K Gaming Monitor', '27in FHD Monitor', '34in Ultrawide Monitor', 'AA Batteries (4-pack)', 'AAA Batteries (4-pack)', 'Apple Airpods Headphones', 'Bose SoundSport Headphones', 'Flatscreen TV', 'Google Phone', 'LG Dryer', 'LG Washing Machine', 'Lightning Charging Cable', 'Macbook Pro Laptop', 'ThinkPad Laptop', 'USB-C Charging Cable', 'Vareebadd Phone', 'Wired Headphones', 'iPhone']\n"
          ]
        }
      ]
    }
  ]
}